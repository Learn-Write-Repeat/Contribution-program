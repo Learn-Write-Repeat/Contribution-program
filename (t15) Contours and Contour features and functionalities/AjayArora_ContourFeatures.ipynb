{
  "nbformat": 4,
  "nbformat_minor": 0,
  "metadata": {
    "colab": {
      "name": "AjayArora_ContourFeatures.ipynb",
      "provenance": []
    },
    "kernelspec": {
      "name": "python3",
      "display_name": "Python 3"
    }
  },
  "cells": [
    {
      "cell_type": "code",
      "metadata": {
        "id": "YQl4D87FbKvT",
        "outputId": "bf0eebc5-c61f-4485-ae94-e3cc6063a4c8",
        "colab": {
          "base_uri": "https://localhost:8080/",
          "height": 34
        }
      },
      "source": [
        "from google.colab import drive\n",
        "drive.mount('/content/mydrive/')"
      ],
      "execution_count": 1,
      "outputs": [
        {
          "output_type": "stream",
          "text": [
            "Mounted at /content/mydrive/\n"
          ],
          "name": "stdout"
        }
      ]
    },
    {
      "cell_type": "markdown",
      "metadata": {
        "id": "j4j6CSBXDVQf"
      },
      "source": [
        "# What are Contours\n",
        "Contours can be explained simply as a curve joining all the continuous points (along the boundary), having same color or intensity. The contours are a useful tool for shape analysis and object detection and recognition\n"
      ]
    },
    {
      "cell_type": "code",
      "metadata": {
        "id": "KngIsf1NDrhW",
        "outputId": "737ddd35-f74a-4508-ed9f-ada2389d442e",
        "colab": {
          "base_uri": "https://localhost:8080/",
          "height": 497
        }
      },
      "source": [
        "#Importing the Necessary Packages\n",
        "import cv2\n",
        "import imutils\n",
        "import matplotlib.pyplot as plt\n",
        "import numpy as np\n",
        "from google.colab.patches import cv2_imshow\n",
        "#Load the image and convert it to grayscale\n",
        "image = cv2.imread('/content/mydrive/My Drive/contours_tictactoe.png')\n",
        "gray = cv2.cvtColor(image,cv2.COLOR_BGR2GRAY)\n",
        "kernel = np.ones((5,5),np.float32)/25\n",
        "gray = cv2.filter2D(gray,-1,kernel)\n",
        "cv2_imshow(gray)"
      ],
      "execution_count": 39,
      "outputs": [
        {
          "output_type": "display_data",
          "data": {
            "image/png": "[encoded data removed]",
            "text/plain": [
              "<PIL.Image.Image image mode=L size=440x480 at 0x7FE8A2237518>"
            ]
          },
          "metadata": {
            "tags": []
          }
        }
      ]
    },
    {
      "cell_type": "code",
      "metadata": {
        "id": "qaM22K4mIhAc"
      },
      "source": [
        "#Find all contours on the image\n",
        "contours = cv2.findContours(gray.copy(),cv2.RETR_EXTERNAL,cv2.CHAIN_APPROX_SIMPLE)\n",
        "contours = imutils.grab_contours(contours)\n",
        "\n"
      ],
      "execution_count": 40,
      "outputs": []
    },
    {
      "cell_type": "markdown",
      "metadata": {
        "id": "JHUfDxV-KfIJ"
      },
      "source": [
        "# 1. Moments\n",
        "Image moments help you to calculate some features like center of mass of the object, area of the object etc.\n"
      ]
    },
    {
      "cell_type": "code",
      "metadata": {
        "id": "cO3i1eJwKkgQ",
        "outputId": "490a02b2-c010-49b9-9c59-f6fd7107227e",
        "colab": {
          "base_uri": "https://localhost:8080/",
          "height": 88
        }
      },
      "source": [
        "cnt = contours[0]\n",
        "M = cv2.moments(cnt)\n",
        "print(M)\n",
        "\n",
        "#From this moments, you can extract useful data like area, centroid etc. Centroid is given by the relations, Cx=M10M00 and Cy=M01M00. This can be done as follows:\n",
        "cx = int(M['m10']/M['m00'])\n",
        "cy = int(M['m01']/M['m00'])\n",
        "print(cx)\n",
        "print(cy)"
      ],
      "execution_count": 41,
      "outputs": [
        {
          "output_type": "stream",
          "text": [
            "{'m00': 2830.5, 'm10': 231740.16666666666, 'm01': 1077666.3333333333, 'm20': 19675345.083333332, 'm11': 88260295.125, 'm02': 410888705.5833333, 'm30': 1725895905.0500002, 'm21': 7495894943.233334, 'm12': 33662567295.433334, 'm03': 156884487561.2, 'mu20': 702193.7508145384, 'mu11': 29037.150182053447, 'mu02': 584969.1409693956, 'mu30': 45086.28018808365, 'mu21': 76133.45792725682, 'mu12': -37131.935284122825, 'mu03': -65645.86361694336, 'nu20': 0.08764570559705732, 'nu11': 0.0036243294863869697, 'nu02': 0.07301408343964097, 'nu30': 0.00010577584601154288, 'nu21': 0.00017861488879644221, 'nu12': -8.711434725462308e-05, 'nu03': -0.00015401019406067093}\n",
            "81\n",
            "380\n"
          ],
          "name": "stdout"
        }
      ]
    },
    {
      "cell_type": "markdown",
      "metadata": {
        "id": "9WNjJBLpKuTl"
      },
      "source": [
        "# 2. Contour Area and Perimeter\n",
        "Contour area is given by the function cv.contourArea() or from moments .\n",
        "\n",
        "Contour Perimeter is also called arc length. It can be found out using cv.arcLength() function. Second argument specify whether shape is a closed contour (if passed True), or just a curve.\n",
        "\n"
      ]
    },
    {
      "cell_type": "code",
      "metadata": {
        "id": "LNm8qtOFKtq-",
        "outputId": "c367c37e-9425-43c0-fd25-8379131793ae",
        "colab": {
          "base_uri": "https://localhost:8080/",
          "height": 51
        }
      },
      "source": [
        "#Area\n",
        "area = cv2.contourArea(cnt)\n",
        "print(\"Area : {}\".format(area))\n",
        "\n",
        "#Perimeter\n",
        "perimeter = cv2.arcLength(cnt,True)\n",
        "print(\"Perimeter : {}\".format(perimeter))"
      ],
      "execution_count": 42,
      "outputs": [
        {
          "output_type": "stream",
          "text": [
            "Area : 2830.5\n",
            "Perimeter : 200.1248904466629\n"
          ],
          "name": "stdout"
        }
      ]
    },
    {
      "cell_type": "markdown",
      "metadata": {
        "id": "Yk_oVeSDL2Ja"
      },
      "source": [
        "# 3.a) Contour Approximation\n",
        "It approximates a contour shape to another shape with less number of vertices depending upon the precision we specify. It is an implementation of Douglas-Peucker algorithm.\n",
        "\n"
      ]
    },
    {
      "cell_type": "code",
      "metadata": {
        "id": "-80UB19TL0-O",
        "outputId": "65b5c4db-f1a9-416c-cb94-24fb88f926a8",
        "colab": {
          "base_uri": "https://localhost:8080/",
          "height": 497
        }
      },
      "source": [
        "epsilon = 0.01*cv2.arcLength(cnt,True)\n",
        "approx = cv2.approxPolyDP(cnt,epsilon,True)\n",
        "canvas = np.zeros(image.shape, np.uint8)\n",
        "cv2.drawContours(canvas,cnt,-1,(0,255,0),3)\n",
        "cv2.drawContours(canvas, approx, -1, (0, 0, 255), 3)\n",
        "cv2_imshow(canvas)\n"
      ],
      "execution_count": 43,
      "outputs": [
        {
          "output_type": "display_data",
          "data": {
            "image/png": "[encoded data removed]",
            "text/plain": [
              "<PIL.Image.Image image mode=RGB size=440x480 at 0x7FE8A2237D68>"
            ]
          },
          "metadata": {
            "tags": []
          }
        }
      ]
    },
    {
      "cell_type": "markdown",
      "metadata": {
        "id": "KYWVsLornmyJ"
      },
      "source": [
        "# 3.b) Convex Hull\n",
        "Hull means the exterior or the shape of the object.\n",
        "\n",
        "Therefore, the Convex Hull of a shape or a group of points is a tight fitting convex boundary around the points or the shape.\n",
        "\n",
        "\n"
      ]
    },
    {
      "cell_type": "code",
      "metadata": {
        "id": "2SmWB4jNb9Hx",
        "outputId": "9acba94b-521e-4ade-b392-847c3dad2c7d",
        "colab": {
          "base_uri": "https://localhost:8080/",
          "height": 497
        }
      },
      "source": [
        "\n",
        "#Load the image\n",
        "img1 = cv2.imread('/content/mydrive/My Drive/contours_tictactoe.png')\n",
        "#Convert it to grey Scale\n",
        "img = cv2.cvtColor(img1, cv2.COLOR_BGR2GRAY)\n",
        "#Threshold the image\n",
        "ret,thres = cv2.threshold(img,50,255,0)\n",
        "#Find the Contours\n",
        "contours,hierarchy = cv2.findContours(thres,cv2.RETR_TREE,cv2.CHAIN_APPROX_SIMPLE)\n",
        "#For each contour ,find the convex hull and draw it\n",
        "#on the original image\n",
        "for i in range(len(contours)):\n",
        "  hull = cv2.convexHull(contours[i])\n",
        "  cv2.drawContours(img1,[hull],-1,(255,0,0),2)\n",
        "#Display Final convex hull image\n",
        "cv2_imshow(img1)\n"
      ],
      "execution_count": 44,
      "outputs": [
        {
          "output_type": "display_data",
          "data": {
            "image/png": "[encoded data removed]",
            "text/plain": [
              "<PIL.Image.Image image mode=RGB size=440x480 at 0x7FE8A22375F8>"
            ]
          },
          "metadata": {
            "tags": []
          }
        }
      ]
    },
    {
      "cell_type": "markdown",
      "metadata": {
        "id": "xslHThlroRCM"
      },
      "source": [
        "# 4.) Checking Convexity\n",
        "There is a function to check if a curve is convex or not, cv2.isContourConvex(). It just return whether True or False. Not a big deal.\n"
      ]
    },
    {
      "cell_type": "code",
      "metadata": {
        "id": "8e3VNhW4oWR7",
        "outputId": "efb19e32-a017-44e1-aa4c-ff464922b4b3",
        "colab": {
          "base_uri": "https://localhost:8080/",
          "height": 34
        }
      },
      "source": [
        "k = cv2.isContourConvex(cnt)\n",
        "print(k)"
      ],
      "execution_count": 45,
      "outputs": [
        {
          "output_type": "stream",
          "text": [
            "False\n"
          ],
          "name": "stdout"
        }
      ]
    },
    {
      "cell_type": "markdown",
      "metadata": {
        "id": "SSAnvQhxoxZL"
      },
      "source": [
        "The curve is not Convex."
      ]
    },
    {
      "cell_type": "markdown",
      "metadata": {
        "id": "LziH3nnho7dP"
      },
      "source": [
        "5.a) Straight Bounding Rectangle\n",
        "It is a straight rectangle, it doesn’t consider the rotation of the object. So area of the bounding rectangle won’t be minimum. It is found by the function cv2.boundingRect().\n",
        "\n",
        "Let (x,y) be the top-left coordinate of the rectangle and (w,h) be its width and height.\n"
      ]
    },
    {
      "cell_type": "code",
      "metadata": {
        "id": "83GkQLgYo1ct",
        "outputId": "387ce701-bdd2-410c-80b9-97a28f972b16",
        "colab": {
          "base_uri": "https://localhost:8080/",
          "height": 497
        }
      },
      "source": [
        "image = cv2.imread('/content/mydrive/My Drive/contours_tictactoe.png')\n",
        "original = image.copy()\n",
        "gray = cv2.cvtColor(image, cv2.COLOR_BGR2GRAY)\n",
        "thresh = cv2.threshold(gray, 0, 255, cv2.THRESH_BINARY_INV + cv2.THRESH_OTSU)[1]\n",
        "\n",
        "# Find contours, obtain bounding box, extract and save ROI\n",
        "ROI_number = 0\n",
        "cnts = cv2.findContours(thresh, cv2.RETR_EXTERNAL, cv2.CHAIN_APPROX_SIMPLE)\n",
        "cnts = cnts[0] if len(cnts) == 2 else cnts[1]\n",
        "for c in cnts:\n",
        "    x,y,w,h = cv2.boundingRect(c)\n",
        "    cv2.rectangle(image, (x, y), (x + w, y + h), (36,255,12), 2)\n",
        "    ROI = original[y:y+h, x:x+w]\n",
        "    cv2.imwrite('ROI_{}.png'.format(ROI_number), ROI)\n",
        "    ROI_number += 1\n",
        "\n",
        "cv2_imshow(image)\n"
      ],
      "execution_count": 46,
      "outputs": [
        {
          "output_type": "display_data",
          "data": {
            "image/png": "[encoded data removed]",
            "text/plain": [
              "<PIL.Image.Image image mode=RGB size=440x480 at 0x7FE8A22294E0>"
            ]
          },
          "metadata": {
            "tags": []
          }
        }
      ]
    },
    {
      "cell_type": "markdown",
      "metadata": {
        "id": "UUESc0Pvy45b"
      },
      "source": [
        "*******************************************\n",
        "# After these Properites , I have changed the image to get a better insight to the properties.\n",
        "*******************************************"
      ]
    },
    {
      "cell_type": "markdown",
      "metadata": {
        "id": "jIFBSV8-vEU_"
      },
      "source": [
        "# 5.a) Straight Bounding Rectangle\n",
        "It is a straight rectangle, it doesn't consider the rotation of the object. So area of the bounding rectangle won't be minimum. It is found by the function cv.boundingRect().\n",
        "\n",
        "Let (x,y) be the top-left coordinate of the rectangle and (w,h) be its width and height."
      ]
    },
    {
      "cell_type": "code",
      "metadata": {
        "id": "4nq2aOmqvPqo",
        "outputId": "65eae575-4f2b-4507-ab9d-46117b1fca0a",
        "colab": {
          "base_uri": "https://localhost:8080/",
          "height": 237
        }
      },
      "source": [
        "image = cv2.imread('/content/mydrive/My Drive/star.png')\n",
        "original = image.copy()\n",
        "gray = cv2.cvtColor(image, cv2.COLOR_BGR2GRAY)\n",
        "thresh = cv2.threshold(gray, 0, 255, cv2.THRESH_BINARY_INV + cv2.THRESH_OTSU)[1]\n",
        "\n",
        "# Find contours, obtain bounding box, extract and save ROI\n",
        "ROI_number = 0\n",
        "cnts = cv2.findContours(thresh, cv2.RETR_EXTERNAL, cv2.CHAIN_APPROX_SIMPLE)\n",
        "cnts = cnts[0] if len(cnts) == 2 else cnts[1]\n",
        "for c in cnts:\n",
        "    x,y,w,h = cv2.boundingRect(c)\n",
        "    cv2.rectangle(image, (x, y), (x + w, y + h), (36,255,12), 2)\n",
        "    ROI = original[y:y+h, x:x+w]\n",
        "    cv2.imwrite('ROI_{}.png'.format(ROI_number), ROI)\n",
        "    ROI_number += 1\n",
        "\n",
        "cv2_imshow(image)"
      ],
      "execution_count": 49,
      "outputs": [
        {
          "output_type": "display_data",
          "data": {
            "image/png": "[encoded data removed]",
            "text/plain": [
              "<PIL.Image.Image image mode=RGB size=228x220 at 0x7FE8A2241C18>"
            ]
          },
          "metadata": {
            "tags": []
          }
        }
      ]
    },
    {
      "cell_type": "markdown",
      "metadata": {
        "id": "TeiLKw_OpZfH"
      },
      "source": [
        "#5.b) Rotated Rectangle\n",
        "Here, bounding rectangle is drawn with minimum area, so it considers the rotation also. The function used is cv2.minAreaRect(). It returns a Box2D structure which contains following detals - ( top-left corner(x,y), (width, height), angle of rotation ). But to draw this rectangle, we need 4 corners of the rectangle. It is obtained by the function cv2.boxPoints()"
      ]
    },
    {
      "cell_type": "code",
      "metadata": {
        "id": "vHSqnQjRpdBk",
        "outputId": "c821f593-4fb6-41fe-e88e-f0b463988810",
        "colab": {
          "base_uri": "https://localhost:8080/",
          "height": 237
        }
      },
      "source": [
        "# Find contours, find rotated rectangle, obtain four verticies, and draw \n",
        "cnts = cv2.findContours(thresh, cv2.RETR_EXTERNAL, cv2.CHAIN_APPROX_SIMPLE)\n",
        "cnts = cnts[0] if len(cnts) == 2 else cnts[1]\n",
        "rect = cv2.minAreaRect(cnts[0])\n",
        "box = np.int0(cv2.boxPoints(rect))\n",
        "cv2.drawContours(image, [box], 0, (36,255,12), 3) # OR\n",
        "# cv2.polylines(image, [box], True, (36,255,12), 3)\n",
        "\n",
        "cv2_imshow(image)\n"
      ],
      "execution_count": 50,
      "outputs": [
        {
          "output_type": "display_data",
          "data": {
            "image/png": "[encoded data removed]",
            "text/plain": [
              "<PIL.Image.Image image mode=RGB size=228x220 at 0x7FE8A228B0F0>"
            ]
          },
          "metadata": {
            "tags": []
          }
        }
      ]
    },
    {
      "cell_type": "markdown",
      "metadata": {
        "id": "Pj5YfRG1vkjs"
      },
      "source": [
        "# 6.) Minimum Enclosing Circle\n",
        "Next we find the circumcircle of an object using the function cv.minEnclosingCircle(). It is a circle which completely covers the object with minimum area.\n"
      ]
    },
    {
      "cell_type": "code",
      "metadata": {
        "id": "3TxUitGKvqjv",
        "outputId": "e3777120-2487-48ca-af8b-3c352ef9c98a",
        "colab": {
          "base_uri": "https://localhost:8080/",
          "height": 237
        }
      },
      "source": [
        "image = cv2.imread('/content/mydrive/My Drive/star.png')\n",
        "\n",
        "## find centers \n",
        "for cnt in cnts:\n",
        "  (x,y),radius = cv2.minEnclosingCircle(cnt)\n",
        "  center = (int(x),int(y))\n",
        "  radius = int(radius)\n",
        "  cv2.circle(image,center,radius,(0,255,0),2)\n",
        "\n",
        "cv2_imshow(image)"
      ],
      "execution_count": 56,
      "outputs": [
        {
          "output_type": "display_data",
          "data": {
            "image/png": "[encoded data removed]",
            "text/plain": [
              "<PIL.Image.Image image mode=RGB size=228x220 at 0x7FE8A2303780>"
            ]
          },
          "metadata": {
            "tags": []
          }
        }
      ]
    },
    {
      "cell_type": "markdown",
      "metadata": {
        "id": "t2GigvJmxl0q"
      },
      "source": [
        "# 7.) Fitting an Ellipse\n",
        "Next one is to fit an ellipse to an object. It returns the rotated rectangle in which the ellipse is inscribed.\n"
      ]
    },
    {
      "cell_type": "code",
      "metadata": {
        "id": "hG2DhAB8xtsB",
        "outputId": "5998d511-cda7-4023-97e0-879a10db6b78",
        "colab": {
          "base_uri": "https://localhost:8080/",
          "height": 237
        }
      },
      "source": [
        "image = cv2.imread('/content/mydrive/My Drive/star.png')\n",
        "for cnt in cnts:\n",
        "  ellipse = cv2.fitEllipse(cnt)\n",
        "  cv2.ellipse(image,ellipse,(0,255,0),2)\n",
        "cv2_imshow(image)\n"
      ],
      "execution_count": 61,
      "outputs": [
        {
          "output_type": "display_data",
          "data": {
            "image/png": "[encoded data removed]",
            "text/plain": [
              "<PIL.Image.Image image mode=RGB size=228x220 at 0x7FE8A2241E10>"
            ]
          },
          "metadata": {
            "tags": []
          }
        }
      ]
    },
    {
      "cell_type": "markdown",
      "metadata": {
        "id": "qaThw_myyKMV"
      },
      "source": [
        "# 8.) Fitting a Line\n",
        "Similarly we can fit a line to a set of points. Below image contains a set of white points. We can approximate a straight line to it.\n"
      ]
    },
    {
      "cell_type": "code",
      "metadata": {
        "id": "z34vcvxyyD1D",
        "outputId": "c274aa4b-4be5-4be6-c1d9-727488a89d72",
        "colab": {
          "base_uri": "https://localhost:8080/",
          "height": 237
        }
      },
      "source": [
        "image = cv2.imread('/content/mydrive/My Drive/star.png')\n",
        "for cnt in cnts:\n",
        "  rows,cols = image.shape[:2]\n",
        "  [vx,vy,x,y] = cv2.fitLine(cnt, cv2.DIST_L2,0,0.01,0.01)\n",
        "  lefty = int((-x*vy/vx) + y)\n",
        "  righty = int(((cols-x)*vy/vx)+y)\n",
        "  cv2.line(image,(cols-1,righty),(0,lefty),(0,255,0),2)\n",
        "cv2_imshow(image)"
      ],
      "execution_count": 63,
      "outputs": [
        {
          "output_type": "display_data",
          "data": {
            "image/png": "[encoded data removed]",
            "text/plain": [
              "<PIL.Image.Image image mode=RGB size=228x220 at 0x7FE8A22F7CC0>"
            ]
          },
          "metadata": {
            "tags": []
          }
        }
      ]
    }
  ]
}