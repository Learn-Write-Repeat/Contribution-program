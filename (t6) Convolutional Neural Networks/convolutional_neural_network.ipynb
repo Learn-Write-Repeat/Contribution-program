{
 "cells": [
  {
   "cell_type": "markdown",
   "metadata": {
    "colab_type": "text",
    "id": "3DR-eO17geWu"
   },
   "source": [
    "# Convolutional Neural Network"
   ]
  },
  {
   "cell_type": "markdown",
   "metadata": {
    "colab_type": "text",
    "id": "EMefrVPCg-60"
   },
   "source": [
    "### Importing the libraries"
   ]
  },
  {
   "cell_type": "code",
   "execution_count": 1,
   "metadata": {
    "colab": {
     "base_uri": "https://localhost:8080/",
     "height": 34
    },
    "colab_type": "code",
    "executionInfo": {
     "elapsed": 2561,
     "status": "ok",
     "timestamp": 1586435320041,
     "user": {
      "displayName": "Hadelin de Ponteves",
      "photoUrl": "https://lh3.googleusercontent.com/a-/AOh14GhEuXdT7eQweUmRPW8_laJuPggSK6hfvpl5a6WBaA=s64",
      "userId": "15047218817161520419"
     },
     "user_tz": -240
    },
    "id": "sCV30xyVhFbE",
    "outputId": "41e39496-ad7b-45be-8cb5-5ae492405174"
   },
   "outputs": [
    {
     "name": "stderr",
     "output_type": "stream",
     "text": [
      "Using TensorFlow backend.\n"
     ]
    }
   ],
   "source": [
    "import tensorflow as tf\n",
    "from keras.preprocessing.image import ImageDataGenerator"
   ]
  },
  {
   "cell_type": "code",
   "execution_count": 2,
   "metadata": {
    "colab": {
     "base_uri": "https://localhost:8080/",
     "height": 34
    },
    "colab_type": "code",
    "executionInfo": {
     "elapsed": 2558,
     "status": "ok",
     "timestamp": 1586435320042,
     "user": {
      "displayName": "Hadelin de Ponteves",
      "photoUrl": "https://lh3.googleusercontent.com/a-/AOh14GhEuXdT7eQweUmRPW8_laJuPggSK6hfvpl5a6WBaA=s64",
      "userId": "15047218817161520419"
     },
     "user_tz": -240
    },
    "id": "FIleuCAjoFD8",
    "outputId": "9f4bbca7-a8c6-4a14-8354-82c989248f45"
   },
   "outputs": [
    {
     "data": {
      "text/plain": [
       "'2.2.0-rc2'"
      ]
     },
     "execution_count": 2,
     "metadata": {
      "tags": []
     },
     "output_type": "execute_result"
    }
   ],
   "source": [
    "tf.__version__"
   ]
  },
  {
   "cell_type": "markdown",
   "metadata": {
    "colab_type": "text",
    "id": "oxQxCBWyoGPE"
   },
   "source": [
    "## Part 1 - Data Preprocessing"
   ]
  },
  {
   "cell_type": "markdown",
   "metadata": {
    "colab_type": "text",
    "id": "y8K74-1foOic"
   },
   "source": [
    "### Generating images for the Training set"
   ]
  },
  {
   "cell_type": "code",
   "execution_count": 0,
   "metadata": {
    "colab": {},
    "colab_type": "code",
    "id": "OlH2WYQ5ocVO"
   },
   "outputs": [],
   "source": [
    "train_datagen = ImageDataGenerator(rescale = 1./255,\n",
    "                                   shear_range = 0.2,\n",
    "                                   zoom_range = 0.2,\n",
    "                                   horizontal_flip = True)"
   ]
  },
  {
   "cell_type": "markdown",
   "metadata": {
    "colab_type": "text",
    "id": "LXXei7qHornJ"
   },
   "source": [
    "### Generating images for the Test set"
   ]
  },
  {
   "cell_type": "code",
   "execution_count": 0,
   "metadata": {
    "colab": {},
    "colab_type": "code",
    "id": "T9It49laowGX"
   },
   "outputs": [],
   "source": [
    "test_datagen = ImageDataGenerator(rescale = 1./255)"
   ]
  },
  {
   "cell_type": "markdown",
   "metadata": {
    "colab_type": "text",
    "id": "MvE-heJNo3GG"
   },
   "source": [
    "### Creating the Training set"
   ]
  },
  {
   "cell_type": "code",
   "execution_count": 5,
   "metadata": {
    "colab": {
     "base_uri": "https://localhost:8080/",
     "height": 34
    },
    "colab_type": "code",
    "executionInfo": {
     "elapsed": 2544,
     "status": "ok",
     "timestamp": 1586435320043,
     "user": {
      "displayName": "Hadelin de Ponteves",
      "photoUrl": "https://lh3.googleusercontent.com/a-/AOh14GhEuXdT7eQweUmRPW8_laJuPggSK6hfvpl5a6WBaA=s64",
      "userId": "15047218817161520419"
     },
     "user_tz": -240
    },
    "id": "0koUcJMJpEBD",
    "outputId": "9d177ed1-04eb-4b72-a6f6-d9da3528fb20"
   },
   "outputs": [
    {
     "name": "stdout",
     "output_type": "stream",
     "text": [
      "Found 334 images belonging to 3 classes.\n"
     ]
    }
   ],
   "source": [
    "training_set = train_datagen.flow_from_directory('dataset/training_set',\n",
    "                                                 target_size = (64, 64),\n",
    "                                                 batch_size = 32,\n",
    "                                                 class_mode = 'binary')"
   ]
  },
  {
   "cell_type": "markdown",
   "metadata": {
    "colab_type": "text",
    "id": "mrCMmGw9pHys"
   },
   "source": [
    "### Creating the Test set"
   ]
  },
  {
   "cell_type": "code",
   "execution_count": 6,
   "metadata": {
    "colab": {
     "base_uri": "https://localhost:8080/",
     "height": 34
    },
    "colab_type": "code",
    "executionInfo": {
     "elapsed": 2543,
     "status": "ok",
     "timestamp": 1586435320044,
     "user": {
      "displayName": "Hadelin de Ponteves",
      "photoUrl": "https://lh3.googleusercontent.com/a-/AOh14GhEuXdT7eQweUmRPW8_laJuPggSK6hfvpl5a6WBaA=s64",
      "userId": "15047218817161520419"
     },
     "user_tz": -240
    },
    "id": "SH4WzfOhpKc3",
    "outputId": "ea549ecd-e7b7-408c-df58-cbbf77fb58db"
   },
   "outputs": [
    {
     "name": "stdout",
     "output_type": "stream",
     "text": [
      "Found 334 images belonging to 3 classes.\n"
     ]
    }
   ],
   "source": [
    "test_set = test_datagen.flow_from_directory('dataset/test_set',\n",
    "                                            target_size = (64, 64),\n",
    "                                            batch_size = 32,\n",
    "                                            class_mode = 'binary')"
   ]
  },
  {
   "cell_type": "markdown",
   "metadata": {
    "colab_type": "text",
    "id": "af8O4l90gk7B"
   },
   "source": [
    "## Part 2 - Building the CNN"
   ]
  },
  {
   "cell_type": "markdown",
   "metadata": {
    "colab_type": "text",
    "id": "ces1gXY2lmoX"
   },
   "source": [
    "### Initialising the CNN"
   ]
  },
  {
   "cell_type": "code",
   "execution_count": 0,
   "metadata": {
    "colab": {},
    "colab_type": "code",
    "id": "SAUt4UMPlhLS"
   },
   "outputs": [],
   "source": [
    "cnn = tf.keras.models.Sequential()"
   ]
  },
  {
   "cell_type": "markdown",
   "metadata": {
    "colab_type": "text",
    "id": "u5YJj_XMl5LF"
   },
   "source": [
    "### Step 1 - Convolution"
   ]
  },
  {
   "cell_type": "code",
   "execution_count": 0,
   "metadata": {
    "colab": {},
    "colab_type": "code",
    "id": "XPzPrMckl-hV"
   },
   "outputs": [],
   "source": [
    "cnn.add(tf.keras.layers.Conv2D(filters=32, kernel_size=3, padding=\"same\", activation=\"relu\", input_shape=[64, 64, 3]))"
   ]
  },
  {
   "cell_type": "markdown",
   "metadata": {
    "colab_type": "text",
    "id": "tf87FpvxmNOJ"
   },
   "source": [
    "### Step 2 - Pooling"
   ]
  },
  {
   "cell_type": "code",
   "execution_count": 0,
   "metadata": {
    "colab": {},
    "colab_type": "code",
    "id": "ncpqPl69mOac"
   },
   "outputs": [],
   "source": [
    "cnn.add(tf.keras.layers.MaxPool2D(pool_size=2, strides=2, padding='valid'))"
   ]
  },
  {
   "cell_type": "markdown",
   "metadata": {
    "colab_type": "text",
    "id": "xaTOgD8rm4mU"
   },
   "source": [
    "### Adding a second convolutional layer"
   ]
  },
  {
   "cell_type": "code",
   "execution_count": 0,
   "metadata": {
    "colab": {},
    "colab_type": "code",
    "id": "i_-FZjn_m8gk"
   },
   "outputs": [],
   "source": [
    "cnn.add(tf.keras.layers.Conv2D(filters=32, kernel_size=3, padding=\"same\", activation=\"relu\"))\n",
    "cnn.add(tf.keras.layers.MaxPool2D(pool_size=2, strides=2, padding='valid'))"
   ]
  },
  {
   "cell_type": "markdown",
   "metadata": {
    "colab_type": "text",
    "id": "tmiEuvTunKfk"
   },
   "source": [
    "### Step 3 - Flattening"
   ]
  },
  {
   "cell_type": "code",
   "execution_count": 0,
   "metadata": {
    "colab": {},
    "colab_type": "code",
    "id": "6AZeOGCvnNZn"
   },
   "outputs": [],
   "source": [
    "cnn.add(tf.keras.layers.Flatten())"
   ]
  },
  {
   "cell_type": "markdown",
   "metadata": {
    "colab_type": "text",
    "id": "dAoSECOm203v"
   },
   "source": [
    "### Step 4 - Full Connection"
   ]
  },
  {
   "cell_type": "code",
   "execution_count": 0,
   "metadata": {
    "colab": {},
    "colab_type": "code",
    "id": "8GtmUlLd26Nq"
   },
   "outputs": [],
   "source": [
    "cnn.add(tf.keras.layers.Dense(units=128, activation='relu'))"
   ]
  },
  {
   "cell_type": "markdown",
   "metadata": {
    "colab_type": "text",
    "id": "yTldFvbX28Na"
   },
   "source": [
    "### Step 5 - Output Layer"
   ]
  },
  {
   "cell_type": "code",
   "execution_count": 0,
   "metadata": {
    "colab": {},
    "colab_type": "code",
    "id": "1p_Zj1Mc3Ko_"
   },
   "outputs": [],
   "source": [
    "cnn.add(tf.keras.layers.Dense(units=1, activation='sigmoid'))"
   ]
  },
  {
   "cell_type": "markdown",
   "metadata": {
    "colab_type": "text",
    "id": "D6XkI90snSDl"
   },
   "source": [
    "## Part 3 - Training the CNN"
   ]
  },
  {
   "cell_type": "markdown",
   "metadata": {
    "colab_type": "text",
    "id": "vfrFQACEnc6i"
   },
   "source": [
    "### Compiling the CNN"
   ]
  },
  {
   "cell_type": "code",
   "execution_count": 0,
   "metadata": {
    "colab": {},
    "colab_type": "code",
    "id": "NALksrNQpUlJ"
   },
   "outputs": [],
   "source": [
    "cnn.compile(optimizer = 'adam', loss = 'binary_crossentropy', metrics = ['accuracy'])"
   ]
  },
  {
   "cell_type": "markdown",
   "metadata": {
    "colab_type": "text",
    "id": "ehS-v3MIpX2h"
   },
   "source": [
    "### Training the CNN on the Training set and evaluating it on the Test set"
   ]
  },
  {
   "cell_type": "code",
   "execution_count": 15,
   "metadata": {
    "colab": {
     "base_uri": "https://localhost:8080/",
     "height": 924
    },
    "colab_type": "code",
    "executionInfo": {
     "elapsed": 2893328,
     "status": "ok",
     "timestamp": 1586438210865,
     "user": {
      "displayName": "Hadelin de Ponteves",
      "photoUrl": "https://lh3.googleusercontent.com/a-/AOh14GhEuXdT7eQweUmRPW8_laJuPggSK6hfvpl5a6WBaA=s64",
      "userId": "15047218817161520419"
     },
     "user_tz": -240
    },
    "id": "XUj1W4PJptta",
    "outputId": "3de830db-5a3c-41ea-c318-3dd55b8099aa"
   },
   "outputs": [
    {
     "name": "stdout",
     "output_type": "stream",
     "text": [
      "WARNING:tensorflow:From <ipython-input-15-a0db581e8660>:5: Model.fit_generator (from tensorflow.python.keras.engine.training) is deprecated and will be removed in a future version.\n",
      "Instructions for updating:\n",
      "Please use Model.fit, which supports generators.\n",
      "Epoch 1/25\n",
      "334/334 [==============================] - 116s 346ms/step - loss: -37484704.0000 - accuracy: 0.4987 - val_loss: -218133216.0000 - val_accuracy: 0.4999\n",
      "Epoch 2/25\n",
      "334/334 [==============================] - 115s 343ms/step - loss: -1530877952.0000 - accuracy: 0.5002 - val_loss: -4208331776.0000 - val_accuracy: 0.5004\n",
      "Epoch 3/25\n",
      "334/334 [==============================] - 114s 342ms/step - loss: -10730311680.0000 - accuracy: 0.4992 - val_loss: -21080999936.0000 - val_accuracy: 0.5000\n",
      "Epoch 4/25\n",
      "334/334 [==============================] - 114s 343ms/step - loss: -38008516608.0000 - accuracy: 0.4999 - val_loss: -62359158784.0000 - val_accuracy: 0.4993\n",
      "Epoch 5/25\n",
      "334/334 [==============================] - 114s 342ms/step - loss: -95429894144.0000 - accuracy: 0.5003 - val_loss: -141409304576.0000 - val_accuracy: 0.5004\n",
      "Epoch 6/25\n",
      "334/334 [==============================] - 114s 342ms/step - loss: -195819356160.0000 - accuracy: 0.5002 - val_loss: -270405451776.0000 - val_accuracy: 0.5005\n",
      "Epoch 7/25\n",
      "334/334 [==============================] - 114s 343ms/step - loss: -350490820608.0000 - accuracy: 0.4992 - val_loss: -460973342720.0000 - val_accuracy: 0.4995\n",
      "Epoch 8/25\n",
      "334/334 [==============================] - 115s 343ms/step - loss: -567733321728.0000 - accuracy: 0.5008 - val_loss: -721733025792.0000 - val_accuracy: 0.5005\n",
      "Epoch 9/25\n",
      "334/334 [==============================] - 119s 357ms/step - loss: -871657046016.0000 - accuracy: 0.4992 - val_loss: -1073665343488.0000 - val_accuracy: 0.4997\n",
      "Epoch 10/25\n",
      "334/334 [==============================] - 115s 344ms/step - loss: -1252980817920.0000 - accuracy: 0.5005 - val_loss: -1517686751232.0000 - val_accuracy: 0.5002\n",
      "Epoch 11/25\n",
      "334/334 [==============================] - 115s 345ms/step - loss: -1743530622976.0000 - accuracy: 0.5000 - val_loss: -2079168659456.0000 - val_accuracy: 0.4998\n",
      "Epoch 12/25\n",
      "334/334 [==============================] - 115s 345ms/step - loss: -2341885968384.0000 - accuracy: 0.5000 - val_loss: -2746375471104.0000 - val_accuracy: 0.5003\n",
      "Epoch 13/25\n",
      "334/334 [==============================] - 115s 344ms/step - loss: -3043618455552.0000 - accuracy: 0.5000 - val_loss: -3542708387840.0000 - val_accuracy: 0.4995\n",
      "Epoch 14/25\n",
      "334/334 [==============================] - 115s 343ms/step - loss: -3882742448128.0000 - accuracy: 0.5001 - val_loss: -4493544521728.0000 - val_accuracy: 0.4996\n",
      "Epoch 15/25\n",
      "334/334 [==============================] - 121s 361ms/step - loss: -4904350908416.0000 - accuracy: 0.4998 - val_loss: -5572023812096.0000 - val_accuracy: 0.4997\n",
      "Epoch 16/25\n",
      "334/334 [==============================] - 115s 344ms/step - loss: -6028249268224.0000 - accuracy: 0.4999 - val_loss: -6827078057984.0000 - val_accuracy: 0.5000\n",
      "Epoch 17/25\n",
      "334/334 [==============================] - 115s 345ms/step - loss: -7348382859264.0000 - accuracy: 0.5007 - val_loss: -8296905310208.0000 - val_accuracy: 0.4998\n",
      "Epoch 18/25\n",
      "334/334 [==============================] - 115s 345ms/step - loss: -8830923571200.0000 - accuracy: 0.4989 - val_loss: -9900669272064.0000 - val_accuracy: 0.5004\n",
      "Epoch 19/25\n",
      "334/334 [==============================] - 115s 345ms/step - loss: -10479195914240.0000 - accuracy: 0.5007 - val_loss: -11772465512448.0000 - val_accuracy: 0.5003\n",
      "Epoch 20/25\n",
      "334/334 [==============================] - 116s 346ms/step - loss: -12438010331136.0000 - accuracy: 0.5002 - val_loss: -13772319096832.0000 - val_accuracy: 0.4996\n",
      "Epoch 21/25\n",
      "334/334 [==============================] - 115s 345ms/step - loss: -14471482310656.0000 - accuracy: 0.4999 - val_loss: -15963112079360.0000 - val_accuracy: 0.4998\n",
      "Epoch 22/25\n",
      "334/334 [==============================] - 115s 345ms/step - loss: -16802979512320.0000 - accuracy: 0.4998 - val_loss: -18570987700224.0000 - val_accuracy: 0.5004\n",
      "Epoch 23/25\n",
      "334/334 [==============================] - 115s 345ms/step - loss: -19371355275264.0000 - accuracy: 0.4995 - val_loss: -21191286849536.0000 - val_accuracy: 0.4998\n",
      "Epoch 24/25\n",
      "334/334 [==============================] - 116s 346ms/step - loss: -22239346950144.0000 - accuracy: 0.5005 - val_loss: -24250689781760.0000 - val_accuracy: 0.5002\n",
      "Epoch 25/25\n",
      "334/334 [==============================] - 115s 345ms/step - loss: -25315573235712.0000 - accuracy: 0.5000 - val_loss: -27645225992192.0000 - val_accuracy: 0.4999\n"
     ]
    },
    {
     "data": {
      "text/plain": [
       "<tensorflow.python.keras.callbacks.History at 0x7fbafb03aeb8>"
      ]
     },
     "execution_count": 15,
     "metadata": {
      "tags": []
     },
     "output_type": "execute_result"
    }
   ],
   "source": [
    "cnn.fit_generator(training_set,\n",
    "                  steps_per_epoch = 334,\n",
    "                  epochs = 25,\n",
    "                  validation_data = test_set,\n",
    "                  validation_steps = 334)"
   ]
  }
 ],
 "metadata": {
  "colab": {
   "authorship_tag": "ABX9TyN4RwM22jdD+NwpsDagcktL",
   "collapsed_sections": [],
   "name": "Convolutional Neural Network",
   "provenance": [],
   "toc_visible": true
  },
  "kernelspec": {
   "display_name": "Python 3",
   "language": "python",
   "name": "python3"
  },
  "language_info": {
   "codemirror_mode": {
    "name": "ipython",
    "version": 3
   },
   "file_extension": ".py",
   "mimetype": "text/x-python",
   "name": "python",
   "nbconvert_exporter": "python",
   "pygments_lexer": "ipython3",
   "version": "3.7.4"
  }
 },
 "nbformat": 4,
 "nbformat_minor": 1
}
