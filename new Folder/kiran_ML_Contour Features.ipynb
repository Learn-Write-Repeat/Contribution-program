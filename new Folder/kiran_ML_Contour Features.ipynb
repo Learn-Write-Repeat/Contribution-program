{
 "cells": [
  {
   "cell_type": "markdown",
   "metadata": {},
   "source": [
    "# 1 What Are Countour Features?"
   ]
  },
  {
   "cell_type": "markdown",
   "metadata": {},
   "source": [
    "# \n",
    "Contours show distinct characteristic features of the terrain as follows:                                                                                            i) All points on a contour line are of the same elevation.                                                                                                ii) No two contour lines can meet or cross each other except in the rare case of an overhanging vertical cliff or wall.                                                                                          iii) Closely spaced contour lines indicate steep slope."
   ]
  },
  {
   "cell_type": "markdown",
   "metadata": {},
   "source": [
    "# \n",
    " i) All points on a contour line are of the same elevation.\n",
    "\n",
    "ii) No two contour lines can meet or cross each other except in the rare case of an overhanging vertical cliff or wall\n",
    "iii) Closely spaced contour lines indicate steep slope\n",
    "\n",
    "iv) Widely spaced contour lines indicate gentle slope\n",
    "\n",
    "v) Equally spaced contour lines indicate uniform slope\n",
    "\n",
    "vi) Closed contour lines with higher elevation towards the centre indicate hills\n",
    "\n",
    "vii) Closed contour lines with reducing levels towards the centre indicate pond or other depression.\n",
    "\n",
    "viii) Contour lines of ridge show higher elevation within the loop of the contours. Contour lines cross ridge at right angles."
   ]
  },
  {
   "cell_type": "markdown",
   "metadata": {},
   "source": [
    "# 2 Why Countour Features?"
   ]
  },
  {
   "cell_type": "markdown",
   "metadata": {},
   "source": [
    "# \n",
    "Contours make it possible to represent the height of mountains and steepness of slopes on a two-dimensional map surface. Topographic maps also use a variety of symbols to describe both natural and human made features such as roads, buildings, quarries, lakes, streams, and vegetation."
   ]
  },
  {
   "cell_type": "code",
   "execution_count": null,
   "metadata": {},
   "outputs": [],
   "source": []
  }
 ],
 "metadata": {
  "kernelspec": {
   "display_name": "Python 3",
   "language": "python",
   "name": "python3"
  },
  "language_info": {
   "codemirror_mode": {
    "name": "ipython",
    "version": 3
   },
   "file_extension": ".py",
   "mimetype": "text/x-python",
   "name": "python",
   "nbconvert_exporter": "python",
   "pygments_lexer": "ipython3",
   "version": "3.8.3"
  }
 },
 "nbformat": 4,
 "nbformat_minor": 4
}
