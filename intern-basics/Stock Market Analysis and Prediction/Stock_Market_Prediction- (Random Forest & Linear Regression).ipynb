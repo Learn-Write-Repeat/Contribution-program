{
 "cells": [
  {
   "cell_type": "markdown",
   "metadata": {},
   "source": [
    "## Stock Market Prediction"
   ]
  },
  {
   "cell_type": "markdown",
   "metadata": {},
   "source": [
    "### Random Forest and Linear regression algorithm for Time Series Analysis"
   ]
  },
  {
   "cell_type": "code",
   "execution_count": 90,
   "metadata": {},
   "outputs": [],
   "source": [
    "import numpy as np\n",
    "import pandas as pd\n",
    "import matplotlib.pyplot as plt\n",
    "%matplotlib inline\n",
    "import math\n",
    "import sklearn.preprocessing as prep\n",
    "\n",
    "from matplotlib.pyplot import rcParams\n",
    "from datetime import date\n",
    "from sklearn.preprocessing import MinMaxScaler\n",
    "from sklearn.ensemble import RandomForestRegressor\n",
    "from sklearn import linear_model\n",
    "from sklearn.metrics import mean_squared_error"
   ]
  },
  {
   "cell_type": "code",
   "execution_count": 91,
   "metadata": {},
   "outputs": [
    {
     "data": {
      "text/html": [
       "<div>\n",
       "<style scoped>\n",
       "    .dataframe tbody tr th:only-of-type {\n",
       "        vertical-align: middle;\n",
       "    }\n",
       "\n",
       "    .dataframe tbody tr th {\n",
       "        vertical-align: top;\n",
       "    }\n",
       "\n",
       "    .dataframe thead th {\n",
       "        text-align: right;\n",
       "    }\n",
       "</style>\n",
       "<table border=\"1\" class=\"dataframe\">\n",
       "  <thead>\n",
       "    <tr style=\"text-align: right;\">\n",
       "      <th></th>\n",
       "      <th>Code</th>\n",
       "      <th>Date</th>\n",
       "      <th>Open</th>\n",
       "      <th>High</th>\n",
       "      <th>Low</th>\n",
       "      <th>Close</th>\n",
       "      <th>Volume</th>\n",
       "    </tr>\n",
       "  </thead>\n",
       "  <tbody>\n",
       "    <tr>\n",
       "      <th>0</th>\n",
       "      <td>3IINFOTECH</td>\n",
       "      <td>2014-12-18</td>\n",
       "      <td>7.437910</td>\n",
       "      <td>7.446311</td>\n",
       "      <td>7.427869</td>\n",
       "      <td>7.435041</td>\n",
       "      <td>2538.135246</td>\n",
       "    </tr>\n",
       "    <tr>\n",
       "      <th>1</th>\n",
       "      <td>3IINFOTECH</td>\n",
       "      <td>2014-12-19</td>\n",
       "      <td>7.582241</td>\n",
       "      <td>7.597414</td>\n",
       "      <td>7.571207</td>\n",
       "      <td>7.583621</td>\n",
       "      <td>2778.203448</td>\n",
       "    </tr>\n",
       "    <tr>\n",
       "      <th>2</th>\n",
       "      <td>3IINFOTECH</td>\n",
       "      <td>2014-12-22</td>\n",
       "      <td>7.782296</td>\n",
       "      <td>7.793385</td>\n",
       "      <td>7.769650</td>\n",
       "      <td>7.781907</td>\n",
       "      <td>6414.482490</td>\n",
       "    </tr>\n",
       "    <tr>\n",
       "      <th>3</th>\n",
       "      <td>3IINFOTECH</td>\n",
       "      <td>2014-12-23</td>\n",
       "      <td>7.771465</td>\n",
       "      <td>7.778030</td>\n",
       "      <td>7.762879</td>\n",
       "      <td>7.769444</td>\n",
       "      <td>1944.929293</td>\n",
       "    </tr>\n",
       "    <tr>\n",
       "      <th>4</th>\n",
       "      <td>3IINFOTECH</td>\n",
       "      <td>2014-12-24</td>\n",
       "      <td>8.321127</td>\n",
       "      <td>8.347465</td>\n",
       "      <td>8.294648</td>\n",
       "      <td>8.321972</td>\n",
       "      <td>10216.726761</td>\n",
       "    </tr>\n",
       "    <tr>\n",
       "      <th>5</th>\n",
       "      <td>3IINFOTECH</td>\n",
       "      <td>2014-12-26</td>\n",
       "      <td>8.499172</td>\n",
       "      <td>8.517881</td>\n",
       "      <td>8.485762</td>\n",
       "      <td>8.504636</td>\n",
       "      <td>52045.635762</td>\n",
       "    </tr>\n",
       "    <tr>\n",
       "      <th>6</th>\n",
       "      <td>3IINFOTECH</td>\n",
       "      <td>2014-12-29</td>\n",
       "      <td>9.390217</td>\n",
       "      <td>9.418071</td>\n",
       "      <td>9.358560</td>\n",
       "      <td>9.386957</td>\n",
       "      <td>21635.451087</td>\n",
       "    </tr>\n",
       "    <tr>\n",
       "      <th>7</th>\n",
       "      <td>3IINFOTECH</td>\n",
       "      <td>2014-12-30</td>\n",
       "      <td>9.121958</td>\n",
       "      <td>9.140356</td>\n",
       "      <td>9.106677</td>\n",
       "      <td>9.124332</td>\n",
       "      <td>6166.682493</td>\n",
       "    </tr>\n",
       "    <tr>\n",
       "      <th>8</th>\n",
       "      <td>3IINFOTECH</td>\n",
       "      <td>2014-12-31</td>\n",
       "      <td>9.409392</td>\n",
       "      <td>9.434392</td>\n",
       "      <td>9.388122</td>\n",
       "      <td>9.410359</td>\n",
       "      <td>12830.422652</td>\n",
       "    </tr>\n",
       "    <tr>\n",
       "      <th>9</th>\n",
       "      <td>3IINFOTECH</td>\n",
       "      <td>2015-01-01</td>\n",
       "      <td>9.611657</td>\n",
       "      <td>9.631461</td>\n",
       "      <td>9.592275</td>\n",
       "      <td>9.612921</td>\n",
       "      <td>14989.721910</td>\n",
       "    </tr>\n",
       "  </tbody>\n",
       "</table>\n",
       "</div>"
      ],
      "text/plain": [
       "         Code        Date      Open      High       Low     Close  \\\n",
       "0  3IINFOTECH  2014-12-18  7.437910  7.446311  7.427869  7.435041   \n",
       "1  3IINFOTECH  2014-12-19  7.582241  7.597414  7.571207  7.583621   \n",
       "2  3IINFOTECH  2014-12-22  7.782296  7.793385  7.769650  7.781907   \n",
       "3  3IINFOTECH  2014-12-23  7.771465  7.778030  7.762879  7.769444   \n",
       "4  3IINFOTECH  2014-12-24  8.321127  8.347465  8.294648  8.321972   \n",
       "5  3IINFOTECH  2014-12-26  8.499172  8.517881  8.485762  8.504636   \n",
       "6  3IINFOTECH  2014-12-29  9.390217  9.418071  9.358560  9.386957   \n",
       "7  3IINFOTECH  2014-12-30  9.121958  9.140356  9.106677  9.124332   \n",
       "8  3IINFOTECH  2014-12-31  9.409392  9.434392  9.388122  9.410359   \n",
       "9  3IINFOTECH  2015-01-01  9.611657  9.631461  9.592275  9.612921   \n",
       "\n",
       "         Volume  \n",
       "0   2538.135246  \n",
       "1   2778.203448  \n",
       "2   6414.482490  \n",
       "3   1944.929293  \n",
       "4  10216.726761  \n",
       "5  52045.635762  \n",
       "6  21635.451087  \n",
       "7   6166.682493  \n",
       "8  12830.422652  \n",
       "9  14989.721910  "
      ]
     },
     "execution_count": 91,
     "metadata": {},
     "output_type": "execute_result"
    }
   ],
   "source": [
    "df= pd.read_csv('C:/Users/DELL/Downloads/groupeddf.csv')\n",
    "df.head(10)"
   ]
  },
  {
   "cell_type": "code",
   "execution_count": 92,
   "metadata": {},
   "outputs": [
    {
     "name": "stdout",
     "output_type": "stream",
     "text": [
      "<class 'pandas.core.frame.DataFrame'>\n",
      "RangeIndex: 79322 entries, 0 to 79321\n",
      "Data columns (total 7 columns):\n",
      " #   Column  Non-Null Count  Dtype  \n",
      "---  ------  --------------  -----  \n",
      " 0   Code    79322 non-null  object \n",
      " 1   Date    79322 non-null  object \n",
      " 2   Open    79322 non-null  float64\n",
      " 3   High    79322 non-null  float64\n",
      " 4   Low     79322 non-null  float64\n",
      " 5   Close   79322 non-null  float64\n",
      " 6   Volume  79322 non-null  float64\n",
      "dtypes: float64(5), object(2)\n",
      "memory usage: 4.2+ MB\n"
     ]
    }
   ],
   "source": [
    "df.info()"
   ]
  },
  {
   "cell_type": "code",
   "execution_count": 93,
   "metadata": {},
   "outputs": [
    {
     "data": {
      "text/plain": [
       "442"
      ]
     },
     "execution_count": 93,
     "metadata": {},
     "output_type": "execute_result"
    }
   ],
   "source": [
    "unique_values = df[\"Code\"].unique()\n",
    "len(unique_values)"
   ]
  },
  {
   "cell_type": "code",
   "execution_count": 94,
   "metadata": {},
   "outputs": [],
   "source": [
    "df1=df.set_index(\"Code\")"
   ]
  },
  {
   "cell_type": "code",
   "execution_count": 95,
   "metadata": {},
   "outputs": [],
   "source": [
    "grouped_df=pd.DataFrame()\n",
    "\n",
    "for i in unique_values:\n",
    "    df2 = (df1.loc[i,:]).groupby(['Code','Date']).mean()\n",
    "    grouped_df=grouped_df.append(df2)\n",
    "grouped_df.reset_index()\n",
    "del df2"
   ]
  },
  {
   "cell_type": "code",
   "execution_count": 96,
   "metadata": {},
   "outputs": [
    {
     "data": {
      "text/html": [
       "<div>\n",
       "<style scoped>\n",
       "    .dataframe tbody tr th:only-of-type {\n",
       "        vertical-align: middle;\n",
       "    }\n",
       "\n",
       "    .dataframe tbody tr th {\n",
       "        vertical-align: top;\n",
       "    }\n",
       "\n",
       "    .dataframe thead th {\n",
       "        text-align: right;\n",
       "    }\n",
       "</style>\n",
       "<table border=\"1\" class=\"dataframe\">\n",
       "  <thead>\n",
       "    <tr style=\"text-align: right;\">\n",
       "      <th></th>\n",
       "      <th>Date</th>\n",
       "      <th>Open</th>\n",
       "      <th>High</th>\n",
       "      <th>Low</th>\n",
       "      <th>Close</th>\n",
       "      <th>Volume</th>\n",
       "    </tr>\n",
       "  </thead>\n",
       "  <tbody>\n",
       "    <tr>\n",
       "      <th>0</th>\n",
       "      <td>2014-12-18</td>\n",
       "      <td>561.963918</td>\n",
       "      <td>562.615636</td>\n",
       "      <td>561.317698</td>\n",
       "      <td>562.008419</td>\n",
       "      <td>148.219931</td>\n",
       "    </tr>\n",
       "    <tr>\n",
       "      <th>1</th>\n",
       "      <td>2014-12-19</td>\n",
       "      <td>588.985235</td>\n",
       "      <td>589.995805</td>\n",
       "      <td>588.078859</td>\n",
       "      <td>589.031208</td>\n",
       "      <td>335.969799</td>\n",
       "    </tr>\n",
       "    <tr>\n",
       "      <th>2</th>\n",
       "      <td>2014-12-22</td>\n",
       "      <td>603.079123</td>\n",
       "      <td>603.608772</td>\n",
       "      <td>602.417544</td>\n",
       "      <td>603.047193</td>\n",
       "      <td>169.870175</td>\n",
       "    </tr>\n",
       "    <tr>\n",
       "      <th>3</th>\n",
       "      <td>2014-12-23</td>\n",
       "      <td>600.358528</td>\n",
       "      <td>600.876254</td>\n",
       "      <td>599.931438</td>\n",
       "      <td>600.357692</td>\n",
       "      <td>97.444816</td>\n",
       "    </tr>\n",
       "    <tr>\n",
       "      <th>4</th>\n",
       "      <td>2014-12-24</td>\n",
       "      <td>588.538106</td>\n",
       "      <td>589.038987</td>\n",
       "      <td>588.018722</td>\n",
       "      <td>588.531498</td>\n",
       "      <td>117.449339</td>\n",
       "    </tr>\n",
       "    <tr>\n",
       "      <th>...</th>\n",
       "      <td>...</td>\n",
       "      <td>...</td>\n",
       "      <td>...</td>\n",
       "      <td>...</td>\n",
       "      <td>...</td>\n",
       "      <td>...</td>\n",
       "    </tr>\n",
       "    <tr>\n",
       "      <th>178</th>\n",
       "      <td>2015-09-24</td>\n",
       "      <td>1425.896581</td>\n",
       "      <td>1426.803205</td>\n",
       "      <td>1425.048077</td>\n",
       "      <td>1425.834615</td>\n",
       "      <td>85.448718</td>\n",
       "    </tr>\n",
       "    <tr>\n",
       "      <th>179</th>\n",
       "      <td>2015-09-28</td>\n",
       "      <td>1413.101322</td>\n",
       "      <td>1413.839868</td>\n",
       "      <td>1412.314537</td>\n",
       "      <td>1412.951322</td>\n",
       "      <td>71.374449</td>\n",
       "    </tr>\n",
       "    <tr>\n",
       "      <th>180</th>\n",
       "      <td>2015-09-29</td>\n",
       "      <td>1383.679461</td>\n",
       "      <td>1384.679253</td>\n",
       "      <td>1382.544606</td>\n",
       "      <td>1383.513900</td>\n",
       "      <td>82.506224</td>\n",
       "    </tr>\n",
       "    <tr>\n",
       "      <th>181</th>\n",
       "      <td>2015-09-30</td>\n",
       "      <td>1400.488693</td>\n",
       "      <td>1400.946985</td>\n",
       "      <td>1399.891960</td>\n",
       "      <td>1400.346734</td>\n",
       "      <td>54.628141</td>\n",
       "    </tr>\n",
       "    <tr>\n",
       "      <th>182</th>\n",
       "      <td>2015-10-01</td>\n",
       "      <td>1423.937900</td>\n",
       "      <td>1424.694521</td>\n",
       "      <td>1422.964840</td>\n",
       "      <td>1423.700000</td>\n",
       "      <td>94.360731</td>\n",
       "    </tr>\n",
       "  </tbody>\n",
       "</table>\n",
       "<p>183 rows × 6 columns</p>\n",
       "</div>"
      ],
      "text/plain": [
       "           Date         Open         High          Low        Close  \\\n",
       "0    2014-12-18   561.963918   562.615636   561.317698   562.008419   \n",
       "1    2014-12-19   588.985235   589.995805   588.078859   589.031208   \n",
       "2    2014-12-22   603.079123   603.608772   602.417544   603.047193   \n",
       "3    2014-12-23   600.358528   600.876254   599.931438   600.357692   \n",
       "4    2014-12-24   588.538106   589.038987   588.018722   588.531498   \n",
       "..          ...          ...          ...          ...          ...   \n",
       "178  2015-09-24  1425.896581  1426.803205  1425.048077  1425.834615   \n",
       "179  2015-09-28  1413.101322  1413.839868  1412.314537  1412.951322   \n",
       "180  2015-09-29  1383.679461  1384.679253  1382.544606  1383.513900   \n",
       "181  2015-09-30  1400.488693  1400.946985  1399.891960  1400.346734   \n",
       "182  2015-10-01  1423.937900  1424.694521  1422.964840  1423.700000   \n",
       "\n",
       "         Volume  \n",
       "0    148.219931  \n",
       "1    335.969799  \n",
       "2    169.870175  \n",
       "3     97.444816  \n",
       "4    117.449339  \n",
       "..          ...  \n",
       "178   85.448718  \n",
       "179   71.374449  \n",
       "180   82.506224  \n",
       "181   54.628141  \n",
       "182   94.360731  \n",
       "\n",
       "[183 rows x 6 columns]"
      ]
     },
     "execution_count": 96,
     "metadata": {},
     "output_type": "execute_result"
    }
   ],
   "source": [
    "df3=grouped_df.loc[\"8KMILES\",:]\n",
    "df4=df3.reset_index()\n",
    "label=df4['Date'].values.tolist()\n",
    "trainset=df4['Open'].values.tolist()\n",
    "df4"
   ]
  },
  {
   "cell_type": "code",
   "execution_count": 97,
   "metadata": {},
   "outputs": [],
   "source": [
    "def ds(dataset,past=1):\n",
    "    dataX, dataY = [], []\n",
    "    for i in range(len(dataset)-past-1):\n",
    "        j = dataset[i:(i+past), 0]\n",
    "        dataX.append(j)\n",
    "        dataY.append(dataset[i + past, 0])\n",
    "    return np.array(dataX), np.array(dataY)"
   ]
  },
  {
   "cell_type": "code",
   "execution_count": 98,
   "metadata": {},
   "outputs": [],
   "source": [
    "def test_train_func(prices):\n",
    "    scaler = MinMaxScaler(feature_range=(0, 1))\n",
    "    prices = scaler.fit_transform(prices)\n",
    "    trainsize = int(len(prices) * 0.80)\n",
    "    testsize = len(prices) - trainsize\n",
    "    train, test = prices[0:trainsize,:], prices[trainsize:len(prices),:]\n",
    "    print(len(train), len(test))\n",
    "    \n",
    "    x_train,y_train = ds(train,1)\n",
    "    x_test,y_test = ds(test,1)\n",
    "    \n",
    "    x_train = scaler.fit_transform(x_train)\n",
    "    x_test = scaler.fit_transform(x_test)\n",
    "    \n",
    "    return x_train,y_train, x_test,y_test"
   ]
  },
  {
   "cell_type": "code",
   "execution_count": 99,
   "metadata": {},
   "outputs": [
    {
     "data": {
      "text/plain": [
       "(183, 1)"
      ]
     },
     "execution_count": 99,
     "metadata": {},
     "output_type": "execute_result"
    }
   ],
   "source": [
    "prices = df4['Close'].values.astype('float32') \n",
    "prices = prices.reshape(len(prices), 1)\n",
    "prices.shape"
   ]
  },
  {
   "cell_type": "code",
   "execution_count": 100,
   "metadata": {},
   "outputs": [
    {
     "name": "stdout",
     "output_type": "stream",
     "text": [
      "146 37\n"
     ]
    }
   ],
   "source": [
    "trainX, trainY, testX, testY = test_train_func(prices)"
   ]
  },
  {
   "cell_type": "code",
   "execution_count": 101,
   "metadata": {},
   "outputs": [
    {
     "name": "stderr",
     "output_type": "stream",
     "text": [
      "[Parallel(n_jobs=5)]: Using backend ThreadingBackend with 5 concurrent workers.\n",
      "[Parallel(n_jobs=5)]: Done  31 tasks      | elapsed:    0.0s\n",
      "[Parallel(n_jobs=5)]: Done 100 out of 100 | elapsed:    0.0s finished\n"
     ]
    },
    {
     "name": "stdout",
     "output_type": "stream",
     "text": [
      "building tree 1 of 100building tree 2 of 100\n",
      "\n",
      "building tree 3 of 100\n",
      "building tree 4 of 100\n",
      "building tree 5 of 100\n",
      "building tree 6 of 100building tree 7 of 100\n",
      "building tree 8 of 100\n",
      "\n",
      "building tree 9 of 100\n",
      "building tree 10 of 100\n",
      "building tree 11 of 100\n",
      "building tree 12 of 100building tree 13 of 100\n",
      "\n",
      "building tree 14 of 100\n",
      "building tree 15 of 100\n",
      "building tree 16 of 100\n",
      "building tree 17 of 100building tree 18 of 100\n",
      "\n",
      "building tree 19 of 100building tree 20 of 100\n",
      "\n",
      "building tree 21 of 100\n",
      "building tree 22 of 100building tree 23 of 100\n",
      "building tree 24 of 100building tree 25 of 100\n",
      "\n",
      "\n",
      "building tree 26 of 100\n",
      "building tree 27 of 100building tree 28 of 100\n",
      "\n",
      "building tree 29 of 100\n",
      "building tree 30 of 100\n",
      "building tree 31 of 100\n",
      "building tree 32 of 100building tree 33 of 100building tree 34 of 100building tree 35 of 100\n",
      "\n",
      "\n",
      "building tree 36 of 100\n",
      "\n",
      "building tree 37 of 100\n",
      "building tree 38 of 100building tree 39 of 100\n",
      "building tree 40 of 100\n",
      "\n",
      "building tree 41 of 100\n",
      "building tree 42 of 100building tree 43 of 100\n",
      "building tree 44 of 100\n",
      "\n",
      "building tree 45 of 100building tree 46 of 100\n",
      "\n",
      "building tree 47 of 100\n",
      "building tree 48 of 100\n",
      "building tree 49 of 100\n",
      "building tree 50 of 100building tree 51 of 100\n",
      "\n",
      "building tree 52 of 100\n",
      "building tree 53 of 100building tree 54 of 100\n",
      "\n",
      "building tree 55 of 100\n",
      "building tree 56 of 100\n",
      "building tree 57 of 100\n",
      "building tree 58 of 100building tree 59 of 100building tree 60 of 100\n",
      "building tree 61 of 100\n",
      "\n",
      "\n",
      "building tree 62 of 100\n",
      "building tree 63 of 100building tree 64 of 100\n",
      "\n",
      "building tree 65 of 100building tree 66 of 100\n",
      "building tree 67 of 100\n",
      "\n",
      "building tree 68 of 100\n",
      "building tree 69 of 100\n",
      "building tree 70 of 100building tree 71 of 100\n",
      "\n",
      "building tree 72 of 100\n",
      "building tree 73 of 100building tree 74 of 100building tree 75 of 100\n",
      "building tree 76 of 100\n",
      "\n",
      "\n",
      "building tree 77 of 100\n",
      "building tree 78 of 100\n",
      "building tree 79 of 100building tree 80 of 100building tree 81 of 100\n",
      "building tree 82 of 100\n",
      "\n",
      "\n",
      "building tree 83 of 100\n",
      "building tree 84 of 100\n",
      "building tree 85 of 100\n",
      "building tree 86 of 100building tree 87 of 100\n",
      "\n",
      "building tree 88 of 100\n",
      "building tree 89 of 100building tree 90 of 100building tree 91 of 100\n",
      "\n",
      "building tree 92 of 100\n",
      "\n",
      "building tree 93 of 100building tree 94 of 100\n",
      "building tree 95 of 100\n",
      "building tree 96 of 100\n",
      "\n",
      "building tree 97 of 100\n",
      "building tree 98 of 100\n",
      "building tree 99 of 100\n",
      "building tree 100 of 100\n"
     ]
    },
    {
     "data": {
      "text/plain": [
       "RandomForestRegressor(bootstrap=True, ccp_alpha=0.0, criterion='mse',\n",
       "                      max_depth=None, max_features='auto', max_leaf_nodes=None,\n",
       "                      max_samples=None, min_impurity_decrease=0.0,\n",
       "                      min_impurity_split=None, min_samples_leaf=1,\n",
       "                      min_samples_split=2, min_weight_fraction_leaf=0.0,\n",
       "                      n_estimators=100, n_jobs=5, oob_score=False,\n",
       "                      random_state=1, verbose=2, warm_start=False)"
      ]
     },
     "execution_count": 101,
     "metadata": {},
     "output_type": "execute_result"
    }
   ],
   "source": [
    "randomforest  = RandomForestRegressor(random_state=1,verbose=2,n_jobs=5)\n",
    "randomforest.fit(trainX,trainY)"
   ]
  },
  {
   "cell_type": "code",
   "execution_count": 102,
   "metadata": {},
   "outputs": [
    {
     "name": "stderr",
     "output_type": "stream",
     "text": [
      "[Parallel(n_jobs=5)]: Using backend ThreadingBackend with 5 concurrent workers.\n",
      "[Parallel(n_jobs=5)]: Done  31 tasks      | elapsed:    0.0s\n",
      "[Parallel(n_jobs=5)]: Done 100 out of 100 | elapsed:    0.0s finished\n"
     ]
    }
   ],
   "source": [
    "test=[]\n",
    "test= randomforest.predict(testX)"
   ]
  },
  {
   "cell_type": "code",
   "execution_count": 103,
   "metadata": {},
   "outputs": [
    {
     "data": {
      "text/plain": [
       "array([0.3665992 , 0.34853208, 0.3367042 , 0.3455994 , 0.36045766,\n",
       "       0.37352097, 0.3716843 , 0.46163356, 0.49432492, 0.4646306 ,\n",
       "       0.42408788, 0.57748544, 0.7374294 , 0.7817353 , 0.75124586,\n",
       "       0.7573086 , 0.76831853, 0.8345448 , 0.79339325, 0.8194858 ,\n",
       "       0.82750404, 0.94312084, 0.9119475 , 0.9489646 , 0.9445609 ,\n",
       "       0.95504785, 0.98091006, 0.97550523, 1.        , 0.99246335,\n",
       "       0.9764079 , 0.9988419 , 0.9839449 , 0.94990647, 0.96937025],\n",
       "      dtype=float32)"
      ]
     },
     "execution_count": 103,
     "metadata": {},
     "output_type": "execute_result"
    }
   ],
   "source": [
    "testY"
   ]
  },
  {
   "cell_type": "code",
   "execution_count": 104,
   "metadata": {},
   "outputs": [
    {
     "data": {
      "text/plain": [
       "0.5016376801744173"
      ]
     },
     "execution_count": 104,
     "metadata": {},
     "output_type": "execute_result"
    }
   ],
   "source": [
    "# For Random Forest\n",
    "math.sqrt(mean_squared_error(test,testY))"
   ]
  },
  {
   "cell_type": "code",
   "execution_count": 105,
   "metadata": {},
   "outputs": [
    {
     "data": {
      "image/png": "[encoded data removed]",
      "text/plain": [
       "<Figure size 432x288 with 1 Axes>"
      ]
     },
     "metadata": {
      "needs_background": "light"
     },
     "output_type": "display_data"
    }
   ],
   "source": [
    "# For Random Forest\n",
    "plt.plot(test,color=\"green\")\n",
    "plt.plot(testY,color='red')\n",
    "plt.show()"
   ]
  },
  {
   "cell_type": "code",
   "execution_count": 106,
   "metadata": {},
   "outputs": [],
   "source": [
    "regr = linear_model.LinearRegression()\n",
    "regr.fit(trainX, trainY)\n",
    "test= regr.predict(testX)"
   ]
  },
  {
   "cell_type": "code",
   "execution_count": 107,
   "metadata": {},
   "outputs": [
    {
     "data": {
      "text/plain": [
       "0.5048180544142529"
      ]
     },
     "execution_count": 107,
     "metadata": {},
     "output_type": "execute_result"
    }
   ],
   "source": [
    "# For Linear Regression\n",
    "math.sqrt(mean_squared_error(test,testY))"
   ]
  },
  {
   "cell_type": "code",
   "execution_count": 108,
   "metadata": {},
   "outputs": [
    {
     "data": {
      "image/png": "[encoded data removed]",
      "text/plain": [
       "<Figure size 432x288 with 1 Axes>"
      ]
     },
     "metadata": {
      "needs_background": "light"
     },
     "output_type": "display_data"
    }
   ],
   "source": [
    "# For Linear Regression\n",
    "plt.plot(test,color=\"red\")\n",
    "plt.plot(testY,color='green')\n",
    "plt.show()"
   ]
  },
  {
   "cell_type": "markdown",
   "metadata": {},
   "source": [
    "___"
   ]
  }
 ],
 "metadata": {
  "kernelspec": {
   "display_name": "Python 3",
   "language": "python",
   "name": "python3"
  },
  "language_info": {
   "codemirror_mode": {
    "name": "ipython",
    "version": 3
   },
   "file_extension": ".py",
   "mimetype": "text/x-python",
   "name": "python",
   "nbconvert_exporter": "python",
   "pygments_lexer": "ipython3",
   "version": "3.7.6"
  }
 },
 "nbformat": 4,
 "nbformat_minor": 4
}
